{
 "cells": [
  {
   "cell_type": "code",
   "execution_count": 1,
   "metadata": {},
   "outputs": [
    {
     "name": "stderr",
     "output_type": "stream",
     "text": [
      "Using TensorFlow backend.\n"
     ]
    }
   ],
   "source": [
    "import pandas as pd\n",
    "import numpy as np\n",
    "import itertools\n",
    "\n",
    "from keras.utils import np_utils\n",
    "from keras.models import Sequential\n",
    "from keras.layers import Dense, Dropout, Flatten, Conv2D, MaxPool2D\n",
    "from keras.optimizers import Adam\n",
    "from keras.models import load_model"
   ]
  },
  {
   "cell_type": "code",
   "execution_count": 2,
   "metadata": {},
   "outputs": [],
   "source": [
    "train = pd.read_csv(\"train.csv\")"
   ]
  },
  {
   "cell_type": "code",
   "execution_count": 3,
   "metadata": {},
   "outputs": [],
   "source": [
    "num = 28000\n",
    "train_x = train.iloc[:num, 1:].astype(\"float32\").values.reshape(num, 28, 28, 1) / 255\n",
    "train_y = train.iloc[:num, 0].astype(\"int32\").values\n",
    "train_y = np_utils.to_categorical(train_y, 10)\n",
    "\n",
    "test_x = train.iloc[num:, 1:].astype(\"float32\").values.reshape(14000, 28, 28, 1) / 255\n",
    "test_y = train.iloc[num:, 0].astype(\"int32\").values\n",
    "test_y = np_utils.to_categorical(test_y, 10)"
   ]
  },
  {
   "cell_type": "code",
   "execution_count": 4,
   "metadata": {},
   "outputs": [],
   "source": [
    "model = Sequential()\n",
    "model.add(Conv2D(filters = 32, kernel_size = (5,5), activation ='relu', input_shape = (28,28,1)))\n",
    "model.add(Conv2D(filters = 32, kernel_size = (5,5), activation ='relu'))\n",
    "model.add(MaxPool2D(pool_size=(2,2)))\n",
    "#model.add(Dropout(0.1))\n",
    "\n",
    "model.add(Conv2D(filters = 64, kernel_size = (3,3), activation ='relu'))\n",
    "model.add(Conv2D(filters = 64, kernel_size = (3,3), activation ='relu'))\n",
    "model.add(MaxPool2D(pool_size=(2,2), strides=(2,2)))\n",
    "#model.add(Dropout(0.1))\n",
    "\n",
    "model.add(Flatten())\n",
    "model.add(Dense(300, activation = \"relu\"))\n",
    "#model.add(Dropout(0.2))\n",
    "model.add(Dense(10, activation = \"softmax\"))\n",
    "\n",
    "model.compile(optimizer = Adam(lr=0.001, beta_1=0.9, beta_2=0.999, epsilon=None, decay=0.0, amsgrad=False),\n",
    "              loss = \"categorical_crossentropy\",\n",
    "              metrics=[\"accuracy\"])"
   ]
  },
  {
   "cell_type": "code",
   "execution_count": 5,
   "metadata": {},
   "outputs": [
    {
     "name": "stdout",
     "output_type": "stream",
     "text": [
      "Epoch 1/20\n",
      "28000/28000 [==============================] - 256s 9ms/step - loss: 0.2557 - acc: 0.9214\n",
      "Epoch 2/20\n",
      "28000/28000 [==============================] - 252s 9ms/step - loss: 0.0648 - acc: 0.9797\n",
      "Epoch 3/20\n",
      "28000/28000 [==============================] - 251s 9ms/step - loss: 0.0446 - acc: 0.9856\n",
      "Epoch 4/20\n",
      "28000/28000 [==============================] - 252s 9ms/step - loss: 0.0328 - acc: 0.9896\n",
      "Epoch 5/20\n",
      "28000/28000 [==============================] - 252s 9ms/step - loss: 0.0268 - acc: 0.9915\n",
      "Epoch 6/20\n",
      "28000/28000 [==============================] - 253s 9ms/step - loss: 0.0208 - acc: 0.9929\n",
      "Epoch 7/20\n",
      "28000/28000 [==============================] - 257s 9ms/step - loss: 0.0199 - acc: 0.9934\n",
      "Epoch 8/20\n",
      "28000/28000 [==============================] - 253s 9ms/step - loss: 0.0149 - acc: 0.9948\n",
      "Epoch 9/20\n",
      "28000/28000 [==============================] - 254s 9ms/step - loss: 0.0137 - acc: 0.9960\n",
      "Epoch 10/20\n",
      "28000/28000 [==============================] - 253s 9ms/step - loss: 0.0124 - acc: 0.9958\n",
      "Epoch 11/20\n",
      "28000/28000 [==============================] - 253s 9ms/step - loss: 0.0109 - acc: 0.9963\n",
      "Epoch 12/20\n",
      "28000/28000 [==============================] - 253s 9ms/step - loss: 0.0099 - acc: 0.9968\n",
      "Epoch 13/20\n",
      "28000/28000 [==============================] - 254s 9ms/step - loss: 0.0116 - acc: 0.9964\n",
      "Epoch 14/20\n",
      "28000/28000 [==============================] - 253s 9ms/step - loss: 0.0074 - acc: 0.9976\n",
      "Epoch 15/20\n",
      "28000/28000 [==============================] - 255s 9ms/step - loss: 0.0103 - acc: 0.9969\n",
      "Epoch 16/20\n",
      "28000/28000 [==============================] - 253s 9ms/step - loss: 0.0076 - acc: 0.9978\n",
      "Epoch 17/20\n",
      "28000/28000 [==============================] - 253s 9ms/step - loss: 0.0124 - acc: 0.9961\n",
      "Epoch 18/20\n",
      "28000/28000 [==============================] - 253s 9ms/step - loss: 0.0077 - acc: 0.9977\n",
      "Epoch 19/20\n",
      "28000/28000 [==============================] - 253s 9ms/step - loss: 0.0060 - acc: 0.9982\n",
      "Epoch 20/20\n",
      "28000/28000 [==============================] - 253s 9ms/step - loss: 0.0060 - acc: 0.9983\n"
     ]
    },
    {
     "data": {
      "text/plain": [
       "<keras.callbacks.History at 0x4e30c88>"
      ]
     },
     "execution_count": 5,
     "metadata": {},
     "output_type": "execute_result"
    }
   ],
   "source": [
    "model.fit(train_x, train_y, batch_size=88, epochs=20)"
   ]
  },
  {
   "cell_type": "code",
   "execution_count": 6,
   "metadata": {},
   "outputs": [
    {
     "name": "stdout",
     "output_type": "stream",
     "text": [
      "14000/14000 [==============================] - 50s 4ms/step\n",
      "test accuracy:  0.9912857142857143\n"
     ]
    }
   ],
   "source": [
    "result = model.evaluate(test_x, test_y)\n",
    "print('test accuracy: ', result[1])"
   ]
  },
  {
   "cell_type": "code",
   "execution_count": 7,
   "metadata": {},
   "outputs": [],
   "source": [
    "model.save('jtsai_model_test.h5')\n",
    "submit = pd.read_csv(\"sample_submission.csv\")\n",
    "new_test_x = pd.read_csv(\"test.csv\")"
   ]
  },
  {
   "cell_type": "code",
   "execution_count": 8,
   "metadata": {},
   "outputs": [],
   "source": [
    "new_test = new_test_x.astype(\"float32\").values.reshape(num, 28, 28, 1) / 255"
   ]
  },
  {
   "cell_type": "code",
   "execution_count": 9,
   "metadata": {},
   "outputs": [],
   "source": [
    "# Generate test predictions\n",
    "preds = model.predict_classes(new_test, verbose=0)"
   ]
  },
  {
   "cell_type": "code",
   "execution_count": 10,
   "metadata": {},
   "outputs": [
    {
     "data": {
      "text/plain": [
       "array([2, 0, 9, ..., 3, 9, 2], dtype=int64)"
      ]
     },
     "execution_count": 10,
     "metadata": {},
     "output_type": "execute_result"
    }
   ],
   "source": [
    "preds"
   ]
  },
  {
   "cell_type": "code",
   "execution_count": 11,
   "metadata": {},
   "outputs": [],
   "source": [
    "def write_preds(preds, fname):\n",
    "    pd.DataFrame({\"ImageId\": list(range(1,len(preds)+1)), \"Label\": preds}).to_csv(fname, index=False, header=True)\n",
    "\n",
    "write_preds(preds, \"42-jtsai-2.csv\")"
   ]
  },
  {
   "cell_type": "code",
   "execution_count": 12,
   "metadata": {},
   "outputs": [],
   "source": [
    "del model"
   ]
  },
  {
   "cell_type": "code",
   "execution_count": null,
   "metadata": {},
   "outputs": [],
   "source": []
  }
 ],
 "metadata": {
  "kernelspec": {
   "display_name": "Python 3",
   "language": "python",
   "name": "python3"
  },
  "language_info": {
   "codemirror_mode": {
    "name": "ipython",
    "version": 3
   },
   "file_extension": ".py",
   "mimetype": "text/x-python",
   "name": "python",
   "nbconvert_exporter": "python",
   "pygments_lexer": "ipython3",
   "version": "3.6.6"
  }
 },
 "nbformat": 4,
 "nbformat_minor": 1
}
